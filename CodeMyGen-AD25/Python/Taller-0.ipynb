{
 "cells": [
  {
   "cell_type": "markdown",
   "id": "0f5f85e2",
   "metadata": {},
   "source": [
    "# 1. Hola Mundo y Conceptos Básicos\n",
    "\n",
    "En este cuadernillo interactivo aprenderás a usar Python desde cero con ejemplos aplicados a biología y posteriormente lograrás un enfoque completo en bioinformática y áreas afines. \n",
    "\n",
    "**¿Qué es Python?**\n",
    "Python es un lenguaje de programación interpretado, muy usado en ciencia de datos y bioinformática.\n",
    "\n",
    "Para familiarizarte con el formato de jupyter notebook, ejecuta esta celda:\n"
   ]
  },
  {
   "cell_type": "code",
   "execution_count": null,
   "id": "129f4b50",
   "metadata": {},
   "outputs": [
    {
     "name": "stdout",
     "output_type": "stream",
     "text": [
      "¡Hola, mundo de la bioinformática!\n"
     ]
    }
   ],
   "source": [
    "# Ejecuta esta celda presionando control^+Enter (Mac) o Shift+Enter (Windows)\n",
    "\n",
    "print(\"¡Hola, mundo de la bioinformática!\")\n"
   ]
  },
  {
   "cell_type": "markdown",
   "id": "cdafeb9b",
   "metadata": {},
   "source": [
    "## 1.1 Comentarios\n",
    "\n",
    "En Python, los comentarios empiezan con `#`. Son notas para que las lean las personas, no la computadora.\n",
    "Hay que usarlos para documentar el código y que otras personas puedan entender lo que programamos.\n"
   ]
  },
  {
   "cell_type": "code",
   "execution_count": null,
   "id": "4846ba11",
   "metadata": {},
   "outputs": [],
   "source": [
    "# Esto es un comentario\n",
    "# Puedes escribir lo que quieras aquí\n",
    "print(\"Esto se imprimirá\")\n"
   ]
  },
  {
   "cell_type": "markdown",
   "id": "6e56ce34",
   "metadata": {},
   "source": [
    "# 2. Variables y Tipos de Datos\n",
    "\n",
    "Una **variable** almacena información. Por ejemplo, un nombre o una secuencia de ADN.\n"
   ]
  },
  {
   "cell_type": "code",
   "execution_count": null,
   "id": "40542e16",
   "metadata": {},
   "outputs": [],
   "source": [
    "# Guardamos un texto (cadena) en una variable\n",
    "mi_adn = \"ATGCGTAC\"\n",
    "\n",
    "# Mostramos el contenido\n",
    "print(mi_adn)\n"
   ]
  },
  {
   "cell_type": "markdown",
   "id": "594b7be8",
   "metadata": {},
   "source": [
    "### Ejercicio: Cambia la secuencia de ADN y vuelve a ejecutar la celda de arriba.\n"
   ]
  },
  {
   "cell_type": "code",
   "execution_count": null,
   "id": "f41c0882",
   "metadata": {},
   "outputs": [],
   "source": [
    "# Tu código aquí:\n",
    "\n"
   ]
  },
  {
   "cell_type": "markdown",
   "id": "34c5fd6c",
   "metadata": {},
   "source": [
    "# 3. Operaciones con Cadenas de Texto\n",
    "\n",
    "Las secuencias de ADN suelen manejarse como texto.\n"
   ]
  },
  {
   "cell_type": "code",
   "execution_count": null,
   "id": "db07e06b",
   "metadata": {},
   "outputs": [],
   "source": [
    "# Calculamos la longitud de la secuencia\n",
    "longitud = len(mi_adn)\n",
    "print(\"Longitud de la secuencia:\", longitud)\n",
    "\n",
    "# Contamos cuántas veces aparece \"A\"\n",
    "conteo_A = mi_adn.count(\"A\")\n",
    "print(\"Número de A:\", conteo_A)\n"
   ]
  },
  {
   "cell_type": "markdown",
   "id": "6f24315a",
   "metadata": {},
   "source": [
    "### Ejercicio: Completa el código para contar cuántas veces aparece \"G\" en la secuencia.\n"
   ]
  },
  {
   "cell_type": "code",
   "execution_count": null,
   "id": "e08df89c",
   "metadata": {},
   "outputs": [],
   "source": [
    "# Tu código aquí:\n",
    "\n"
   ]
  },
  {
   "cell_type": "markdown",
   "id": "df66a2fd",
   "metadata": {},
   "source": [
    "# 4. Listas: Colecciones de Datos\n",
    "\n",
    "Imagina que tienes varias secuencias.\n"
   ]
  },
  {
   "cell_type": "code",
   "execution_count": 5,
   "id": "9325aa76",
   "metadata": {},
   "outputs": [
    {
     "name": "stdout",
     "output_type": "stream",
     "text": [
      "['ATGC', 'CGTA', 'TTGGCCA']\n",
      "Primera secuencia: ATGC\n"
     ]
    }
   ],
   "source": [
    "secuencias = [\"ATGC\", \"CGTA\", \"TTGGCCA\"]\n",
    "print(secuencias)\n",
    "\n",
    "# Acceder al primer elemento\n",
    "print(\"Primera secuencia:\", secuencias[0])\n"
   ]
  },
  {
   "cell_type": "markdown",
   "id": "f05ebc73",
   "metadata": {},
   "source": [
    "### Ejercicio: Agrega otra secuencia a la lista usando la función \"append\".\n"
   ]
  },
  {
   "cell_type": "code",
   "execution_count": null,
   "id": "b834a64e",
   "metadata": {},
   "outputs": [],
   "source": [
    "#Tu código aquí:\n",
    "\n"
   ]
  },
  {
   "cell_type": "markdown",
   "id": "97fa9e64",
   "metadata": {},
   "source": [
    "# 5. Ciclos/Bucles: Repetir acciones\n",
    "\n",
    "Podemos procesar todas las secuencias con un ciclo o bucle.\n"
   ]
  },
  {
   "cell_type": "code",
   "execution_count": 6,
   "id": "a70ef5df",
   "metadata": {},
   "outputs": [
    {
     "name": "stdout",
     "output_type": "stream",
     "text": [
      "Secuencia: ATGC - Longitud: 4\n",
      "Secuencia: CGTA - Longitud: 4\n",
      "Secuencia: TTGGCCA - Longitud: 7\n"
     ]
    }
   ],
   "source": [
    "for sec in secuencias:\n",
    "    print(\"Secuencia:\", sec, \"- Longitud:\", len(sec))"
   ]
  },
  {
   "cell_type": "markdown",
   "id": "187ec193",
   "metadata": {},
   "source": [
    "# 6. Funciones: Reutilizar código\n",
    "\n",
    "Una función nos permite agrupar instrucciones y reusarlas posteriormente.\n"
   ]
  },
  {
   "cell_type": "code",
   "execution_count": 3,
   "id": "99a82438",
   "metadata": {},
   "outputs": [
    {
     "name": "stdout",
     "output_type": "stream",
     "text": [
      "A: 3 T: 2 C: 1 G: 1\n"
     ]
    }
   ],
   "source": [
    "def contar_bases(adn):\n",
    "    \"\"\"Cuenta A, T, C, G en la secuencia\"\"\"\n",
    "    a = adn.count(\"A\")\n",
    "    t = adn.count(\"T\")\n",
    "    c = adn.count(\"C\")\n",
    "    g = adn.count(\"G\")\n",
    "    print(\"A:\", a, \"T:\", t, \"C:\", c, \"G:\", g)\n",
    "\n",
    "# Prueba con tu secuencia\n",
    "contar_bases(\"GATTACA\")\n"
   ]
  },
  {
   "cell_type": "markdown",
   "id": "d63e9dca",
   "metadata": {},
   "source": [
    "### Ejercicio: Prueba la función `contar_bases` con otra secuencia de tu elección.\n"
   ]
  },
  {
   "cell_type": "markdown",
   "id": "2f3a3dc3",
   "metadata": {},
   "source": [
    "# Resumen\n",
    "\n",
    "Hoy aprendiste:\n",
    "- Cómo imprimir mensajes\n",
    "- Variables y tipos de datos básicos\n",
    "- Listas\n",
    "- Bucles\n",
    "- Funciones\n",
    "\n",
    "Próximos pasos:\n",
    "- Usar Biopython\n",
    "- Aprender a leer archivos FASTA\n",
    "- Manipular datos con pandas\n",
    "- Hacer análisis de secuencias más avanzados\n"
   ]
  }
 ],
 "metadata": {
  "kernelspec": {
   "display_name": "base",
   "language": "python",
   "name": "python3"
  },
  "language_info": {
   "codemirror_mode": {
    "name": "ipython",
    "version": 3
   },
   "file_extension": ".py",
   "mimetype": "text/x-python",
   "name": "python",
   "nbconvert_exporter": "python",
   "pygments_lexer": "ipython3",
   "version": "3.13.2"
  }
 },
 "nbformat": 4,
 "nbformat_minor": 5
}
