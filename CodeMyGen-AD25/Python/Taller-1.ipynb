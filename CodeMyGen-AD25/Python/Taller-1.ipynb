{
 "cells": [
  {
   "cell_type": "markdown",
   "id": "d493a26f",
   "metadata": {},
   "source": [
    "# Notebook 2: Introducción a Alineamiento de Secuencias y Búsqueda de Similitud\n",
    "# 1. ¿Qué es un alineamiento de secuencias?\n",
    "\n",
    "Un alineamiento compara dos o más secuencias biológicas (ADN, ARN o proteínas) para identificar regiones similares.\n",
    "\n",
    "**Dos tipos principales:**\n",
    "- **Alineamiento global:** compara de extremo a extremo.\n",
    "- **Alineamiento local:** busca regiones similares dentro de secuencias largas.\n",
    "\n",
    "**Ejemplo de representación:**"
   ]
  },
  {
   "cell_type": "markdown",
   "id": "b2b907d1",
   "metadata": {},
   "source": [
    "ATGCTAGC <br>\n",
    "ATG--AGC"
   ]
  },
  {
   "cell_type": "markdown",
   "id": "36ba72ed",
   "metadata": {},
   "source": [
    "# 2. Alineamiento par de secuencias con EMBOSS Needle (online)\n",
    "\n",
    "[EMBOSS Needle](https://www.ebi.ac.uk/Tools/psa/emboss_needle/) es una herramienta para alineamiento global.\n",
    "\n",
    "## Ejercicio guiado\n",
    "\n",
    "1. Entra al enlace de Needle.\n",
    "2. Pega dos secuencias de ADN o proteína.\n",
    "3. Ejecuta el alineamiento.\n",
    "4. Observa:\n",
    "   - Identidad (% de coincidencia exacta).\n",
    "   - Similitud.\n",
    "   - Gaps.\n",
    "\n",
    "**Pregunta de reflexión:** ¿Por qué los alineamientos muestran huecos (gaps)?\n"
   ]
  }
 ],
 "metadata": {
  "language_info": {
   "name": "python"
  }
 },
 "nbformat": 4,
 "nbformat_minor": 5
}
